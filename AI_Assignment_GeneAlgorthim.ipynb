{
  "nbformat": 4,
  "nbformat_minor": 0,
  "metadata": {
    "colab": {
      "provenance": [],
      "authorship_tag": "ABX9TyNVwL7U8Y6VFPCVYrc+rjWt",
      "include_colab_link": true
    },
    "kernelspec": {
      "name": "python3",
      "display_name": "Python 3"
    },
    "language_info": {
      "name": "python"
    }
  },
  "cells": [
    {
      "cell_type": "markdown",
      "metadata": {
        "id": "view-in-github",
        "colab_type": "text"
      },
      "source": [
        "<a href=\"https://colab.research.google.com/github/PKerins97/AI/blob/main/AI_Assignment_GeneAlgorthim.ipynb\" target=\"_parent\"><img src=\"https://colab.research.google.com/assets/colab-badge.svg\" alt=\"Open In Colab\"/></a>"
      ]
    },
    {
      "cell_type": "code",
      "execution_count": 1,
      "metadata": {
        "id": "-9LgGNUu-USz"
      },
      "outputs": [],
      "source": [
        "import numpy as np"
      ]
    },
    {
      "cell_type": "code",
      "source": [
        "# Define the TSP problem class\n",
        "class TSPProblem:\n",
        "    def __init__(self, distance_matrix):\n",
        "        self.distance_matrix = distance_matrix\n",
        "# Method to calculate the total cost of a path\n",
        "    def calculate_cost(self, path):\n",
        "        cost = 0\n",
        "        for i in range(len(path) - 1):\n",
        "            cost += self.distance_matrix[path[i]][path[i+1]]\n",
        "        cost += self.distance_matrix[path[-1]][path[0]]  # Return to the starting city\n",
        "        return cost"
      ],
      "metadata": {
        "id": "ohtrj3fb-ZrQ"
      },
      "execution_count": 3,
      "outputs": []
    },
    {
      "cell_type": "code",
      "source": [
        "# Define the TSP individual class\n",
        "class TSPIndividual:\n",
        "    def __init__(self, problem):\n",
        "        self.problem = problem\n",
        "        self.path = np.random.permutation(len(problem.distance_matrix))\n",
        "        # Calculate the cost of the individual's path\n",
        "        self.cost = problem.calculate_cost(self.path)"
      ],
      "metadata": {
        "id": "F-9ZZFBa-d4c"
      },
      "execution_count": 4,
      "outputs": []
    },
    {
      "cell_type": "code",
      "source": [
        "def crossover(parent1, parent2):\n",
        "  # Choose a random crossover point\n",
        "    crossover_point = np.random.randint(1, len(parent1.path))\n",
        "    child_path = list(parent1.path[:crossover_point])\n",
        "    remaining_cities = [city for city in parent2.path if city not in child_path]\n",
        "    child_path.extend(remaining_cities)\n",
        "    child = TSPIndividual(parent1.problem)\n",
        "    child.path = np.array(child_path)\n",
        "    child.cost = parent1.problem.calculate_cost(child.path)\n",
        "    return child"
      ],
      "metadata": {
        "id": "rCqw-aCP-nGW"
      },
      "execution_count": 5,
      "outputs": []
    },
    {
      "cell_type": "code",
      "source": [
        "def mutate(individual, mutation_rate):\n",
        "    for i in range(len(individual.path)):\n",
        "      # Iterate through each gene (city) in the path\n",
        "        if np.random.rand() < mutation_rate:\n",
        "            swap_index = np.random.randint(len(individual.path))\n",
        "            individual.path[i], individual.path[swap_index] = individual.path[swap_index], individual.path[i]\n",
        "    individual.cost = individual.problem.calculate_cost(individual.path)\n",
        "    return individual"
      ],
      "metadata": {
        "id": "z-2YlIFt-rFD"
      },
      "execution_count": 6,
      "outputs": []
    },
    {
      "cell_type": "code",
      "source": [
        "# Function to run the genetic algorithm for TSP\n",
        "def run_genetic_tsp(problem, params):\n",
        "    population = [TSPIndividual(problem) for _ in range(params.population)]\n",
        "    best_solution = min(population, key=lambda x: x.cost)\n",
        "\n",
        "    for generation in range(params.number_of_generations):\n",
        "        children = []\n",
        "        for _ in range(params.child_rate_per_generation):\n",
        "            parent1, parent2 = np.random.choice(population, size=2, replace=False)\n",
        "            child = crossover(parent1, parent2)\n",
        "            child = mutate(child, params.mutation_rate)\n",
        "            children.append(child)\n",
        "\n",
        "        population.extend(children)\n",
        "        population.sort(key=lambda x: x.cost)\n",
        "        population = population[:params.population]\n",
        "\n",
        "        best_solution = min(best_solution, min(population, key=lambda x: x.cost), key=lambda x: x.cost)\n",
        "\n",
        "    return best_solution"
      ],
      "metadata": {
        "id": "vKr4RqAg-t4t"
      },
      "execution_count": 7,
      "outputs": []
    },
    {
      "cell_type": "code",
      "source": [
        "# Define parameters\n",
        "class Parameters:\n",
        "    population = 100\n",
        "    number_of_generations = 500\n",
        "    child_rate_per_generation = 1\n",
        "    mutation_rate = 0.01  # Probability of mutation per gene\n",
        "\n",
        "# Example distance matrix (replace this with your own)\n",
        "distance_matrix = np.array([\n",
        "    [0, 10, 15, 20],\n",
        "    [10, 0, 35, 25],\n",
        "    [15, 35, 0, 30],\n",
        "    [20, 25, 30, 0]\n",
        "])\n",
        "\n",
        "# Create TSP problem instance\n",
        "tsp_problem = TSPProblem(distance_matrix)\n",
        "\n",
        "# Run the genetic algorithm\n",
        "best_solution = run_genetic_tsp(tsp_problem, Parameters)\n",
        "print(\"Best Path:\", best_solution.path)\n",
        "print(\"Cost:\", best_solution.cost)"
      ],
      "metadata": {
        "colab": {
          "base_uri": "https://localhost:8080/"
        },
        "id": "Z30KvbB1-xRP",
        "outputId": "ae875a2f-735f-4902-a845-ac8675a1147b"
      },
      "execution_count": 8,
      "outputs": [
        {
          "output_type": "stream",
          "name": "stdout",
          "text": [
            "Best Path: [2 3 1 0]\n",
            "Cost: 80\n"
          ]
        }
      ]
    }
  ]
}